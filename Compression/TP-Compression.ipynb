{
 "cells": [
  {
   "cell_type": "markdown",
   "id": "68a3d517-7ef0-4d78-b44b-c936bec8e8dd",
   "metadata": {},
   "source": [
    "# TP noté n°2 : Introduction à la compression\n",
    "\n",
    "Ce TP a pour objectif de donner une introduction pratique à certaines techniques élémentaires de compression. Il vous permettra également d'appréhender la création et la lecture d'images via python."
   ]
  },
  {
   "cell_type": "markdown",
   "id": "4a320b76-6477-46e7-ac70-8d5e98d5b301",
   "metadata": {},
   "source": [
    "## Partie 1 : Présentation de la bibliothèque PIL\n",
    "\n",
    "PIL (python image library) est une bibliothèque python permettant de manipuler des images. Si PIL n'est pas installée sur votre machine, vous pouvez entrer la commande suivante (dans un terminal par exemple) pour l'installer : \n",
    "```\n",
    "pip install Pillow\n",
    "```\n",
    "\n",
    "La bibliothèque PIL contient notamment un module `Image` qui nous sera utile dans ce TP. On peut l'importer par :\n",
    "```\n",
    "from PIL import Image\n",
    "```\n",
    "\n",
    "Cette partie a pour but de vous faire manipuler quelques fonctions élémentaires de PIL afin que vous puissiez en comprendre le mécanisme. Pour plus de détails, un tutoriel assez complet est disponible à l'adresse suivante : https://pillow.readthedocs.io/en/stable/handbook/tutorial.html"
   ]
  },
  {
   "cell_type": "markdown",
   "id": "ebca771b-718f-4696-918d-ea38ddc1c2e4",
   "metadata": {},
   "source": [
    "Dans ce TP, nous allons manipuler des images en noir et blanc, sous la forme de grille de pixels. Pour définir une nouvelle image, on utilise la fonction `new` du module `Image`, en précisant le format de l'image et sa taille. Le format d'une image en noir et blanc est `\"L\"`, et sa taille doit êtrte donnée comme un couple d'entiers. Par exemple, pour initialiser une image de taille $(100 \\times 100)$, on utilisera :\n",
    "```\n",
    "img = Image.new( 'L', (100, 100))\n",
    "```\n",
    "La variable `img` contiendra alors l'objet-image qui a été créé.\n",
    "\n",
    "Ensuite, pour afficher l'image `img`, on peut entrer `display(img)` qui affichera l'image sous la cellule d'exécution. On peut également afficher l'image dans un logiciel multimédia grâce à `img.show()`."
   ]
  },
  {
   "cell_type": "markdown",
   "id": "28ada8c5-2b3a-4172-af0b-6f5670639074",
   "metadata": {},
   "source": [
    "**Question 1.** En n'oubliant pas d'importer le module `Image` de la bibliothèque `PIL`, initialiser dans une variable `img` une image de taille $(200 \\times 40)$. Puis, afficher l'image à votre convenance."
   ]
  },
  {
   "cell_type": "code",
   "execution_count": 2,
   "id": "fc5b3e25-6c1d-4f89-ae3c-520d11d45953",
   "metadata": {},
   "outputs": [
    {
     "data": {
      "image/jpeg": "[encoded data removed]",
      "image/png": "[encoded data removed]",
      "text/plain": [
       "<PIL.Image.Image image mode=L size=400x20>"
      ]
     },
     "metadata": {},
     "output_type": "display_data"
    }
   ],
   "source": [
    "from PIL import Image\n",
    "#Définir l'image\n",
    "img = Image.new('L',(400,20))\n",
    "\n",
    "#Afficher l'Image\n",
    "display(img)"
   ]
  },
  {
   "cell_type": "markdown",
   "id": "225b5ab1-26ca-40b9-a7c1-26102b3db091",
   "metadata": {},
   "source": [
    "Comme l'image donne un rectangle applati horizontalement, on déduit que le première dimension correspond à la largeur de l'image, et la seconde sa hauteur.\n",
    "\n",
    "On observe également que, par défaut, les pixels de l'image sont noirs. Les pixels noirs sont représentés par la valeur entière `0`, tandis que les blanc par la valeur `255`. Les valeurs entre  $1$ et $254$ correspondent à des niveaux de gris que l'on n'utilisera pas dans ce TP.\n",
    "\n",
    "Pour modifier la valeur d'un pixel d'une image `img`, on peut utiliser\n",
    "```\n",
    "img.putpixel((i,j), x)\n",
    "```\n",
    "où `(i,j)` désigne la position du pixel à modifier, et `x` la valeur à lui affecter."
   ]
  },
  {
   "cell_type": "markdown",
   "id": "7c3fae60-c12a-4bdd-8bf7-05eddddd2407",
   "metadata": {},
   "source": [
    "**Question 2.** Modifier en blanc le pixel de coordonnées $(50, 10)$ de l'image précédemment créée. Puis, afficher l'image."
   ]
  },
  {
   "cell_type": "code",
   "execution_count": 4,
   "id": "9d0ca86c-bfae-4cec-9d7c-f14c924342ae",
   "metadata": {},
   "outputs": [
    {
     "data": {
      "image/jpeg": "[encoded data removed]",
      "image/png": "[encoded data removed]",
      "text/plain": [
       "<PIL.Image.Image image mode=L size=400x20>"
      ]
     },
     "metadata": {},
     "output_type": "display_data"
    }
   ],
   "source": [
    "#MModifier en blanc le pixel de coordonnées (50,10)\n",
    "img.putpixel((50,10),255)\n",
    "\n",
    "#Afficher l'image modifée\n",
    "display(img)"
   ]
  },
  {
   "cell_type": "markdown",
   "id": "c56936d0-a60c-48b2-ad39-c4839de23322",
   "metadata": {},
   "source": [
    "On observe que le pixel modifié (assez petit) se situe plutôt en haut à gauche de l'image. Cela signifie que les coordonnées $(0, 0)$ correspondent au pixel tout en haut à gauche.\n",
    "\n",
    "La fonction `zoom` fournie dans la cellule suivante vous permet de créer une image \"zoomée\". Elle prend en entrée une image `image` et retourne une autre image en sortie. Elle ne modifie donc pas la variable `image`.\n",
    "\n",
    "La fonction prend également en entrée un second argument, qui correspond au facteur de zoom. Par défauut, il est initialisé à $4$, mais on peut en choisir un autre."
   ]
  },
  {
   "cell_type": "code",
   "execution_count": 5,
   "id": "09dbc6e4-d9e7-45ff-8ca1-c84ef1051ded",
   "metadata": {},
   "outputs": [],
   "source": [
    "from PIL import Image\n",
    "def zoom(image, zoom_factor=4):\n",
    "    im = image\n",
    "    x, y = im.size\n",
    "    im = im.resize([zoom_factor*x, zoom_factor*y], Image.NEAREST)\n",
    "    return im"
   ]
  },
  {
   "cell_type": "markdown",
   "id": "d5188cd5-32f9-4df7-b224-84e80dac11df",
   "metadata": {},
   "source": [
    "**Question 3.** Utiliser la fonction précédemment codée pour afficher deux versions zoomées de votre image :\n",
    "1. l'une avec le facteur de zoom standard $4$ (donc, en ne donnant pas de second argument à la fonction)\n",
    "2. l'autre avec un facteur de zoom $2$"
   ]
  },
  {
   "cell_type": "code",
   "execution_count": 6,
   "id": "b4b7eeb6-d3ad-4762-8397-6f553441df6b",
   "metadata": {},
   "outputs": [
    {
     "data": {
      "image/jpeg": "[encoded data removed]",
      "image/png": "[encoded data removed]",
      "text/plain": [
       "<PIL.Image.Image image mode=L size=1600x80>"
      ]
     },
     "metadata": {},
     "output_type": "display_data"
    }
   ],
   "source": [
    "#Première version zoomée avec le facteur = 4\n",
    "image1 = zoom(img)\n",
    "display(image1)"
   ]
  },
  {
   "cell_type": "code",
   "execution_count": 7,
   "id": "c79f8cb3",
   "metadata": {},
   "outputs": [
    {
     "data": {
      "image/jpeg": "[encoded data removed]",
      "image/png": "[encoded data removed]",
      "text/plain": [
       "<PIL.Image.Image image mode=L size=800x40>"
      ]
     },
     "metadata": {},
     "output_type": "display_data"
    }
   ],
   "source": [
    "#Deuxième version zoomée avec le facteur = 2\n",
    "image2 = zoom(img, zoom_factor=2)\n",
    "display(image2)"
   ]
  },
  {
   "cell_type": "markdown",
   "id": "58891763-17d9-4e14-a141-7cd39133b900",
   "metadata": {},
   "source": [
    "En machine, une image en noir et blanc peut être représentée par une liste de bits : $0$ si le pixel est noir et $1$ s'il est blanc. Les deux fonction suivantes vous permettent de passer d'une image à une liste de bits, et réciproquement."
   ]
  },
  {
   "cell_type": "code",
   "execution_count": 8,
   "id": "c5bd695f-1e38-4da4-bf7a-b50cd8c15b98",
   "metadata": {},
   "outputs": [],
   "source": [
    "def img_to_bits(image):\n",
    "    res = []\n",
    "    for x in range(image.height):\n",
    "        for y in range(image.width):\n",
    "            if image.getpixel((y,x)) != 0:\n",
    "                res.append(1)\n",
    "            else:\n",
    "                res.append(0)\n",
    "    return res\n",
    "\n",
    "def bits_to_img(bits, height, width):\n",
    "    img = Image.new( 'L', (width, height), \"black\")\n",
    "    for i in range(height):\n",
    "        for j in range(width):\n",
    "            if bits[i*width + j] == 1:\n",
    "                img.putpixel((j,i), 255)\n",
    "    return img\n",
    "\n",
    "# bits_to_img(img_to_bits(zoom(img)), 100, 100)"
   ]
  },
  {
   "cell_type": "markdown",
   "id": "7014e2db-9887-4687-8e69-112a1cf0b182",
   "metadata": {},
   "source": [
    "**Question 4.** Créer la liste de bits `[0, 1, 1, 0, 1, 0, 0, 0]`, puis l'afficher sous la forme d'une image de hauteur $2$ et de largeur $4$.\n",
    "\n",
    "*Remarque : comme l'image est très petite, on pourra utiliser un zoom avec un facteur important*"
   ]
  },
  {
   "cell_type": "code",
   "execution_count": 9,
   "id": "27eed617-1819-4b50-809e-d8ceb20dbe6e",
   "metadata": {},
   "outputs": [
    {
     "data": {
      "image/jpeg": "[encoded data removed]",
      "image/png": "[encoded data removed]",
      "text/plain": [
       "<PIL.Image.Image image mode=L size=80x40>"
      ]
     },
     "metadata": {},
     "output_type": "display_data"
    }
   ],
   "source": [
    "#Créer une liste de bits\n",
    "bits = [0, 1, 1, 0, 1, 0, 0, 0]\n",
    " \n",
    "#l'afficher sous la forme d'une image de hauteur 2 et de largeur 4\n",
    "bit_image = bits_to_img(bits,2,4)\n",
    "\n",
    "#On utilise un zoom avec une facteur de 20 par exemple\n",
    "display(zoom(bit_image, zoom_factor=20))"
   ]
  },
  {
   "cell_type": "markdown",
   "id": "cd2110e4-6b25-4400-8d73-31dca31236d0",
   "metadata": {},
   "source": [
    "Les trois fonctions suivantes vous permettent de créer des images avec des formes géométriques que l'on essaiera de compresser par la suite :\n",
    "1. la fonction `diagonal(h)` crée une diagonale blanche sur un fond carré noir de coté `h`\n",
    "2. la fonction `cross(h)` crée une croix noire sur un fond carré `blanc` de coté `h`\n",
    "3. la fonction `square(h, r)` crée un carré noir de côté `r` au centre d'un fond blanc de côté `h`\n",
    "   \n",
    "**Attention !** Ces fonctions retournent une liste de bits, et non une image."
   ]
  },
  {
   "cell_type": "code",
   "execution_count": 10,
   "id": "98ff773e-d664-4e82-85f7-9dc0092d0e70",
   "metadata": {},
   "outputs": [],
   "source": [
    "def diagonal(h):\n",
    "    return [1 if i % (h+1) == 0 else 0 for i in range(h**2) ]\n",
    "\n",
    "def cross(h):\n",
    "    return [0 if (i % (h+1) == 0) or (i % (h-1) == 0) else 1 for i in range(h**2) ]\n",
    "\n",
    "def square(h, r):\n",
    "    res = []\n",
    "    t = (h-r)//2\n",
    "    for i in range(t):\n",
    "        res += [1]*h\n",
    "    for i in range(r):\n",
    "        res += [1]*t + [0]*r + [1]*(h-t-r)\n",
    "    for i in range(h-t-r):\n",
    "        res += [1]*h\n",
    "    return res\n"
   ]
  },
  {
   "cell_type": "markdown",
   "id": "a002426f-bae5-4014-80a5-769315f0cc48",
   "metadata": {},
   "source": [
    "**Question 5.** Afficher des exemples d'images issues de ces trois fonctions."
   ]
  },
  {
   "cell_type": "code",
   "execution_count": 12,
   "id": "546ab476-8c87-4c7e-8093-462d528bf9fb",
   "metadata": {},
   "outputs": [
    {
     "name": "stdout",
     "output_type": "stream",
     "text": [
      "Image issue de la fonction diagonal:\n"
     ]
    },
    {
     "data": {
      "image/jpeg": "[encoded data removed]",
      "image/png": "[encoded data removed]",
      "text/plain": [
       "<PIL.Image.Image image mode=L size=100x100>"
      ]
     },
     "metadata": {},
     "output_type": "display_data"
    },
    {
     "name": "stdout",
     "output_type": "stream",
     "text": [
      "Image issue de la fonction cross:\n"
     ]
    },
    {
     "data": {
      "image/jpeg": "[encoded data removed]",
      "image/png": "[encoded data removed]",
      "text/plain": [
       "<PIL.Image.Image image mode=L size=100x100>"
      ]
     },
     "metadata": {},
     "output_type": "display_data"
    },
    {
     "name": "stdout",
     "output_type": "stream",
     "text": [
      "Image issue de la fonction square:\n"
     ]
    },
    {
     "data": {
      "image/jpeg": "[encoded data removed]",
      "image/png": "[encoded data removed]",
      "text/plain": [
       "<PIL.Image.Image image mode=L size=100x100>"
      ]
     },
     "metadata": {},
     "output_type": "display_data"
    }
   ],
   "source": [
    "# Afficher un exemple d'image pour chaque fonction\n",
    "h = 10\n",
    "r = 4\n",
    "\n",
    "# Image issue de la fonction diagonal\n",
    "bits_diagonal = diagonal(h)\n",
    "img_diagonal = bits_to_img(bits_diagonal, h, h)\n",
    "print(\"Image issue de la fonction diagonal:\")\n",
    "display(zoom(img_diagonal, zoom_factor=10))\n",
    "\n",
    "# Image issue de la fonction cross\n",
    "bits_cross = cross(h)\n",
    "img_cross = bits_to_img(bits_cross, h, h)\n",
    "print(\"Image issue de la fonction cross:\")\n",
    "display(zoom(img_cross,zoom_factor=10))\n",
    "\n",
    "# Image issue de la fonction square\n",
    "bits_square = square(h, r)\n",
    "img_square = bits_to_img(bits_square, h, h)\n",
    "print(\"Image issue de la fonction square:\")\n",
    "display(zoom(img_square,zoom_factor=10))"
   ]
  },
  {
   "cell_type": "markdown",
   "id": "ca9bd891-9e15-4f9f-a4e5-b77d4996bea0",
   "metadata": {},
   "source": [
    "## Partie 2 : Codage RLE brut"
   ]
  },
  {
   "cell_type": "markdown",
   "id": "5517bbd0-0c59-4afc-96fc-1d483f0f4dc6",
   "metadata": {},
   "source": [
    "On rappelle que le codage par plage, aussi nommé RLE (*run-length encoding*), d'une suite de bits $(m_1, \\dots, m_n)$ peut être défini de la sorte. On identifie d'abord le premier bit du message, puis on créer une liste d'entiers correspondant aux longueurs de plages, c'est-à-dire aux nombre de bits consécutivement égaux. Par exemple, pour le message $11000101100000001$, le premier bit est $1$, et la liste d'entiers est $(2, 3, 1, 1, 2, 7, 1)$. \n",
    "\n",
    "**Question 6.** Écrire une fonction `RLE(message)` qui prend en entrée un message binaire `message` et qui retourne un couple `(b, rle)` où\n",
    "- `b` est le premier bit de `message`\n",
    "- `rle` est une liste d'entiers décrivant les longueurs de plage"
   ]
  },
  {
   "cell_type": "code",
   "execution_count": 13,
   "id": "376cf8d1-72da-45b3-9b7c-3b65d05021fe",
   "metadata": {},
   "outputs": [],
   "source": [
    "def RLE(message):\n",
    "    # Initialiser le premier bit\n",
    "    b = message[0]\n",
    "\n",
    "    # Initialiser la liste d'entiers pour les longueurs de plage\n",
    "    rle = []\n",
    "\n",
    "    # Initialiser le compteur pour la longueur de la plage courante\n",
    "    count = 1\n",
    "\n",
    "    # Parcourir le reste du message\n",
    "    for bit in message[1:]:\n",
    "        # Si le bit est égal au bit précédent, incrémenter le compteur\n",
    "        if bit == b:\n",
    "            count += 1\n",
    "        else:\n",
    "            # Sinon, ajouter la longueur de la plage courante à la liste\n",
    "            rle.append(count)\n",
    "            # Mettre à jour le bit courant et réinitialiser le compteur\n",
    "            b = bit\n",
    "            count = 1\n",
    "\n",
    "    # Ajouter la dernière longueur de plage à la liste\n",
    "    rle.append(count)\n",
    "\n",
    "    return message[0], rle"
   ]
  },
  {
   "cell_type": "markdown",
   "id": "c8353c1d-9f8e-4b99-9a12-b451f6bb0dff",
   "metadata": {},
   "source": [
    "**Question 7.** Écrire la fonction `inverse_RLE(b, rle)` qui effectue le procédé inverse du codage RLE. Cette fonction doit don prendre en entrée un bit `b` et une liste d'entiers `rle`, et retourner la liste de bits `message` qui a servi pour obtenir le codage RLE `(b, rle)`."
   ]
  },
  {
   "cell_type": "code",
   "execution_count": 14,
   "id": "8cf70e46-637f-4231-a1ed-90b09f0872f6",
   "metadata": {},
   "outputs": [],
   "source": [
    "def inverse_RLE(b, rle):\n",
    "    message = [b]\n",
    "\n",
    "    for element in rle:\n",
    "        message.extend([b]*element)\n",
    "        b = 1-b\n",
    "        \n",
    "    return message[1:]"
   ]
  },
  {
   "cell_type": "markdown",
   "id": "71cd708c-5ae5-4297-bb9d-3db2bb7a5bab",
   "metadata": {},
   "source": [
    "**Question 8.** Tester vos deux fonctions précédentes (`RLE` et `inverse_RLE`), notamment avec l'exemple donné en début de partie 2."
   ]
  },
  {
   "cell_type": "code",
   "execution_count": 15,
   "id": "02bc8e28-1a9a-4f32-921a-fd67cddb1cc4",
   "metadata": {},
   "outputs": [
    {
     "name": "stdout",
     "output_type": "stream",
     "text": [
      "True\n"
     ]
    }
   ],
   "source": [
    "#Tester les deux fonctions\n",
    "message = [0,1,1, 1, 0, 0, 0, 1, 0, 1, 1, 0,0, 0, 0, 0, 0, 0, 0, 1, 0, 1, 0]\n",
    "(b,rle) = RLE(message)\n",
    "print(inverse_RLE(b, rle) == message)"
   ]
  },
  {
   "cell_type": "markdown",
   "id": "04b6ae8d-e174-4305-bd3a-cd0a1e7f1357",
   "metadata": {},
   "source": [
    "**Question 9.** Quel est le code RLE de l'image diagonale de côté $20$ ?"
   ]
  },
  {
   "cell_type": "code",
   "execution_count": 16,
   "id": "920ff1ac-7874-40c6-aab8-55e131747ca9",
   "metadata": {},
   "outputs": [
    {
     "data": {
      "text/plain": [
       "(1,\n",
       " [1,\n",
       "  20,\n",
       "  1,\n",
       "  20,\n",
       "  1,\n",
       "  20,\n",
       "  1,\n",
       "  20,\n",
       "  1,\n",
       "  20,\n",
       "  1,\n",
       "  20,\n",
       "  1,\n",
       "  20,\n",
       "  1,\n",
       "  20,\n",
       "  1,\n",
       "  20,\n",
       "  1,\n",
       "  20,\n",
       "  1,\n",
       "  20,\n",
       "  1,\n",
       "  20,\n",
       "  1,\n",
       "  20,\n",
       "  1,\n",
       "  20,\n",
       "  1,\n",
       "  20,\n",
       "  1,\n",
       "  20,\n",
       "  1,\n",
       "  20,\n",
       "  1,\n",
       "  20,\n",
       "  1,\n",
       "  20,\n",
       "  1])"
      ]
     },
     "execution_count": 16,
     "metadata": {},
     "output_type": "execute_result"
    }
   ],
   "source": [
    "#Le code RLE de l'image diagonale de coté 20\n",
    "RLE(diagonal(20))"
   ]
  },
  {
   "cell_type": "markdown",
   "id": "fd381016-9b39-47d1-b319-ef61409027ea",
   "metadata": {},
   "source": [
    "## Partie 3 : Codage RLE avec un codage d'entiers"
   ]
  },
  {
   "cell_type": "markdown",
   "id": "fdd79e1e-5057-4bd8-ac3d-8066f71e7eea",
   "metadata": {},
   "source": [
    "Si `(b, rle)` est la sortie d'un codage RLE, les entiers stockés dans la liste `rle` ne sont pas représentés par une suite de bits. On a vu lors du cours sur le codage de source qu'il y avait plusieurs méthodes pour encoder une suite d'entier sous forme binaire. Les fonctions suivantes permettent d'utiliser le codage \"Gamma\" dont la longueur moyenne est proche de la borne entropique pour de nombreuses distributions d'entiers. Pour plus de détails, voir la page wikipedia : https://fr.wikipedia.org/wiki/Codage_gamma"
   ]
  },
  {
   "cell_type": "code",
   "execution_count": 17,
   "id": "fd0a387e-b701-4bfe-b5d2-3e2c0549ba88",
   "metadata": {},
   "outputs": [],
   "source": [
    "# Encodage unaire de l'entier n\n",
    "def unaire(n):\n",
    "    return [0]*n + [1]\n",
    "\n",
    "# Décoomposition en base 2\n",
    "def decomp(n):\n",
    "    if n == 0:\n",
    "        return [0]\n",
    "    res = []\n",
    "    while n != 0:\n",
    "        res.append(n % 2)\n",
    "        n >>= 1\n",
    "    return res\n",
    "\n",
    "# Recomposition en base 2\n",
    "def inverse_decomp(d):\n",
    "    res = 0\n",
    "    p = 1\n",
    "    for x in d:\n",
    "        res += x*p\n",
    "        p <<= 1\n",
    "    return res\n",
    "\n",
    "# Encodage gamma de l'entier n\n",
    "def gamma(n):\n",
    "    d = decomp(n)\n",
    "    s = len(d)\n",
    "    return unaire(s) + d\n",
    "\n",
    "# Décodage gamma de l'entier codé c\n",
    "def inverse_gamma(c):\n",
    "    i = 0\n",
    "    while c[i] == 0:\n",
    "        i += 1\n",
    "    d = c[i+1:]\n",
    "    n = inverse_decomp(d)\n",
    "    return n\n",
    "\n",
    "# Encodage gamma d'une liste d'entiers L\n",
    "def gamma_liste(L):\n",
    "    res = []\n",
    "    for n in L:\n",
    "        res += gamma(n)\n",
    "    return res\n",
    "    \n",
    "# Décodage gamma d'une liste d'entiers codés L\n",
    "def inverse_gamma_liste(L):\n",
    "    res = []\n",
    "    N = len(L)\n",
    "    i = 0\n",
    "    s = 1\n",
    "    while i < N:\n",
    "        if L[i] == 0:\n",
    "            i += 1\n",
    "            s += 1\n",
    "        else:\n",
    "            n = inverse_decomp(L[i+1:i+1+s])\n",
    "            res.append(n)\n",
    "            i = i+s+1\n",
    "            s = 1            \n",
    "    return res"
   ]
  },
  {
   "cell_type": "markdown",
   "id": "52982af3-a599-4d68-a0fb-cc4219845c6f",
   "metadata": {},
   "source": [
    "On souhaite représenter le codage RLE d'un message binaire comme une unique liste de bits. Pour cela, on va simplement concaténer le bit `b` du codage RLE  avec la représentation binaire de la suite d'entier `rle`. Cette représentation binaire peut être obtenue avec la fonction `gamma_liste` donnée ci-dessus.\n",
    "\n",
    "Plus précisément, l'algorithme est le suivant. Pour un message `message` en entrée :\n",
    "1. Calculer `(b, rle)` le codage RLE de `message`.\n",
    "2. Notons $n_1, \\dots, n_k$ les entiers présents dans la liste `rle`. Créer la liste `L` des codages gamma des entiers $[n_1 - 1, \\dots, n_k-1]$.\n",
    "3. Retourner la concaténation de `[b]` avec la liste `L`.\n",
    "\n",
    "**Question 10.** Écrire une fonction `RLE_gamma(message)` qui retourne la représentation du codage RLE de `message` sous forme de liste de bits.\n",
    "\n",
    "*Voici quelques valeurs de tests si besoin :*\n",
    "\n",
    "message | encodage\n",
    ":---: | :---:\n",
    "`[0, 0, 0, 0]` | `[0, 0, 0, 1, 1, 1]`\n",
    "`[1]*100` | `[1, 0, 0, 0, 0, 0, 0, 0, 1, 1, 1, 0, 0, 0, 1, 1]` \n",
    "`[0, 1]*5` | `[0, 0, 1, 0, 0, 1, 0, 0, 1, 0, 0, 1, 0, 0, 1, 0, 0, 1, 0, 0, 1, 0, 0, 1, 0, 0, 1, 0, 0, 1, 0]` \n",
    "`diagonal(3)` | `[1, 0, 1, 0, 0, 0, 1, 0, 1, 0, 1, 0, 0, 0, 1, 0, 1, 0, 1, 0]` \n"
   ]
  },
  {
   "cell_type": "code",
   "execution_count": 18,
   "id": "163ff14e-09a5-4b77-b370-2b7d79f37f98",
   "metadata": {},
   "outputs": [],
   "source": [
    "#Définition de la fonction RLE_gamma\n",
    "def RLE_gamma(message):\n",
    "    message1 = message.copy()\n",
    "    b, rle = RLE(message1)\n",
    "    \n",
    "    L_1 = [i-1 for i in rle]\n",
    "    L = gamma_liste(L_1)\n",
    "\n",
    "    return [b] + L\n",
    "    "
   ]
  },
  {
   "cell_type": "code",
   "execution_count": 20,
   "id": "00f70c41",
   "metadata": {},
   "outputs": [
    {
     "name": "stdout",
     "output_type": "stream",
     "text": [
      "[0, 0, 0, 1, 1, 1]\n",
      "[1, 0, 0, 0, 0, 0, 0, 0, 1, 1, 1, 0, 0, 0, 1, 1]\n",
      "[0, 0, 1, 0, 0, 1, 0, 0, 1, 0, 0, 1, 0, 0, 1, 0, 0, 1, 0, 0, 1, 0, 0, 1, 0, 0, 1, 0, 0, 1, 0]\n",
      "[1, 0, 1, 0, 0, 0, 1, 0, 1, 0, 1, 0, 0, 0, 1, 0, 1, 0, 1, 0]\n"
     ]
    }
   ],
   "source": [
    "#tests\n",
    "print(RLE_gamma([0,0,0,0]))\n",
    "print(RLE_gamma([1]*100))\n",
    "print(RLE_gamma([0, 1]*5))\n",
    "print(RLE_gamma(diagonal(3)))"
   ]
  },
  {
   "cell_type": "markdown",
   "id": "e11b6fd3-b388-41df-98e3-dd9087edc874",
   "metadata": {},
   "source": [
    "**Question 11.** Écrire `inverse_RLE_gamma(L)`, la fonction inverse de la fonction demandée à la question précédente."
   ]
  },
  {
   "cell_type": "code",
   "execution_count": 21,
   "id": "ac81357f-98cd-4646-a1b0-9f7f4ecf907a",
   "metadata": {},
   "outputs": [],
   "source": [
    "#Définition de la fonction inverse\n",
    "\n",
    "def inverse_RLE_gamma(L):\n",
    "    #On fait une copie pour éviter la modification de nos données en entrée\n",
    "    Lp = L.copy()\n",
    "    #On suit la logique inverse\n",
    "    b, L_1 = Lp[0], Lp[1:]\n",
    "    L_2 = inverse_gamma_liste(L_1)\n",
    "    rle = [i+1 for i in L_2]\n",
    "    message = inverse_RLE(b,rle)\n",
    "\n",
    "    return message"
   ]
  },
  {
   "cell_type": "code",
   "execution_count": 23,
   "id": "18251314",
   "metadata": {},
   "outputs": [
    {
     "data": {
      "text/plain": [
       "True"
      ]
     },
     "execution_count": 23,
     "metadata": {},
     "output_type": "execute_result"
    }
   ],
   "source": [
    "#Test de validité\n",
    "M = [0,0,1,1,1,1,0,1,0,1,0,0,0,0,1,1,1,1,0,1,0,0]\n",
    "c = RLE_gamma(M)\n",
    "M_d = inverse_RLE_gamma(c)\n",
    "M_d == M"
   ]
  },
  {
   "cell_type": "markdown",
   "id": "17f4557a-dc79-4196-88e5-79502790b0c2",
   "metadata": {},
   "source": [
    "Dorénavant, comme l'encodage est représenté comme une liste de bits, la taille de l'encodage est la longueur de la liste. On appelle **facteur de compression** le ratio entre la taille du message encodé et la taille du message originel.\n",
    "\n",
    "Une image carrée de côté $h$ a taille $h^2$. Si l'on considère le codage `RLE_gamma` des images complètement noires, les tailles et les facteurs de compression de ces images sont les suivants :\n",
    "\n",
    "Coté $h$ | Taille de l'image originale | Taille de l'image compressée | Facteur de compression\n",
    " :---: | :---: | :---: | :---:\n",
    " 10 | 100 | 16 | 0.16\n",
    " 20 | 400 | 20 | 0.050\n",
    " 50 | 2500 | 26 | 0.0104\n",
    " 100 | 10000 | 30 | 0.0030\n",
    " 1000 | 1000000 | 42 | 0.000042\n"
   ]
  },
  {
   "cell_type": "markdown",
   "id": "ba8fd49f-ab2a-472e-be93-05fa73c9638f",
   "metadata": {},
   "source": [
    "**Question 12.** Calculer les facteurs de compression des images \"diagonales\", pour les mêmes valeurs de $h$ que le tableau précédent. Parmi ces valeurs de $h$, lesquelles donnent une \"bonne\" compression ?"
   ]
  },
  {
   "cell_type": "code",
   "execution_count": 24,
   "id": "6d662925-13ec-4f80-8adf-c92e17048e04",
   "metadata": {},
   "outputs": [
    {
     "name": "stdout",
     "output_type": "stream",
     "text": [
      "taille originale = 100 taille compressée = 112 facteur = 1.12\n",
      "taille originale = 400 taille compressée = 270 facteur = 0.675\n",
      "taille originale = 2500 taille compressée = 788 facteur = 0.3152\n",
      "taille originale = 10000 taille compressée = 1786 facteur = 0.1786\n",
      "taille originale = 1000000 taille compressée = 23980 facteur = 0.02398\n"
     ]
    }
   ],
   "source": [
    "h = [10, 20, 50, 100, 1000]\n",
    "for hauteur in h:\n",
    "    taille_originale = hauteur ** 2\n",
    "    taile_compressee = len(RLE_gamma(diagonal(hauteur)))\n",
    "    facteur = taile_compressee/taille_originale\n",
    "    print(\"taille originale =\", taille_originale, \"taille compressée =\", taile_compressee, \"facteur =\",facteur)"
   ]
  },
  {
   "cell_type": "code",
   "execution_count": 25,
   "id": "f15c69fd",
   "metadata": {},
   "outputs": [],
   "source": [
    "#on remarque que pour h < 10, on obtient une taille compressée plus volumineuse que la taille originale, et à partir de h = 20, l'image compressée prend de moins en moins d'espace"
   ]
  },
  {
   "cell_type": "markdown",
   "id": "26314321-9aa9-4e4a-91ad-84b38e709344",
   "metadata": {},
   "source": [
    "La fonction suivante permet de créer un damier (succession de pixels blanc et noirs) de taille arbitraire"
   ]
  },
  {
   "cell_type": "code",
   "execution_count": 26,
   "id": "2bf35459-3e84-427e-a00d-c8a68d34a74c",
   "metadata": {},
   "outputs": [],
   "source": [
    "def damier(h):\n",
    "    return [0 if (i+(i//h)) % 2 == 0 else 1 for i in range(h**2) ]"
   ]
  },
  {
   "cell_type": "markdown",
   "id": "3a20ce55-edf0-4b7c-ae56-8543945accd6",
   "metadata": {},
   "source": [
    "**Question 13.** Reprendre la question précédente avec des damier de taille $h$. La compression est-elle toujours bonne ? Interpréter."
   ]
  },
  {
   "cell_type": "code",
   "execution_count": 28,
   "id": "9f6f45a9-e078-498a-8b83-dc49e097b40f",
   "metadata": {},
   "outputs": [
    {
     "name": "stdout",
     "output_type": "stream",
     "text": [
      "taille originale = 100 taille compressée = 274 facteur = 2.74\n",
      "taille originale = 400 taille compressée = 1144 facteur = 2.86\n",
      "taille originale = 2500 taille compressée = 7354 facteur = 2.9416\n",
      "taille originale = 10000 taille compressée = 29704 facteur = 2.9704\n",
      "taille originale = 1000000 taille compressée = 2997004 facteur = 2.997004\n"
     ]
    }
   ],
   "source": [
    "h = [10, 20, 50, 100, 1000]\n",
    "for hauteur in h:\n",
    "    taille_originale = hauteur ** 2\n",
    "    taile_compressee = len(RLE_gamma(damier(hauteur)))\n",
    "    facteur = taile_compressee/taille_originale\n",
    "    print(\"taille originale =\", taille_originale, \"taille compressée =\", taile_compressee, \"facteur =\",facteur)"
   ]
  },
  {
   "cell_type": "code",
   "execution_count": 29,
   "id": "f1f57ce8",
   "metadata": {},
   "outputs": [],
   "source": [
    "#d'après les résultats, la compression n'est pas du tout bonne.\n",
    "#Une compression, d'après sa définition, doit réduire l'esapce ou la taille de l'image, ce qui est le contraire de ce qu'on obtient ; une croissance du facteur de compression."
   ]
  },
  {
   "cell_type": "markdown",
   "id": "667580ea-8d85-4fc4-ab54-0aef6b95584f",
   "metadata": {},
   "source": [
    "## Partie 4 : transformée de Burrows-Wheeler"
   ]
  },
  {
   "cell_type": "markdown",
   "id": "4604a4c9-51c6-4619-9eb8-48cc2faf4228",
   "metadata": {},
   "source": [
    "La transfomée de Burrows--Wheeler va nous permettre de régler le problème de la compressin du damier, apparu dans la partie précédente. On rappelle ci-dessous les différents algorithmes (vus en cours) pour opérer cette transformée.\n",
    "\n",
    "\n",
    "#### Algorithme de rotation `rotate(L, i)`\n",
    "- **Entrée :** une liste de bits $L$ de longueur $n$, et un entier `i` compris entre $0$ et $n-1$\n",
    "- **Sortie :** la liste des éléments de `L`, permutée de manière cyclique de $i$ rangs vers la droite\n",
    "1. Stocker dans `A` la liste des `i` derniers bits de `L`\n",
    "2. Stocker dans `B` le reste de la liste `L`\n",
    "3. Retourner la concaténation de `A` et de `B` (dans cet ordre)\n",
    "\n",
    "\n",
    "#### Transformée de Burrows-Wheeler `BW(L)`\n",
    "- **Entrée :** une liste de bits `L` de longueur $n$\n",
    "- **Sortie :** un entier `pos` et une liste de bits `R`  de même longueur $n$\n",
    "1. Stocker dans un tableau `Tab` la liste de toutes les rotations de `L`, en commençant par la rotation d'ordre $i = 0$, et en terminant par celle d'indice $i = n - 1$\n",
    "2. Trier `Tab`\n",
    "3. Retrouver l'indice de la liste `L` dans `Tab`, et le stocker dans `pos`\n",
    "4. Stocker dans `R` la liste des derniers bits de toutes les listes de `Tab`\n",
    "5. Retourner `pos` et `R`\n",
    "\n",
    "\n",
    "#### Transformée inverse de Burrows-Wheeler\n",
    "- **Entrée :** un entier `pos` et une liste de bits `L`  de même longueur $n$\n",
    "- **Sortie :** une liste de bits `R` de longueur $n$\n",
    "1. Initialiser un tableau `Tab` de $n$ listes vides\n",
    "2. Itérer $n$ fois :\n",
    "    1. Pour tout $i \\in \\{0, \\dots, n-1 \\}$ :\n",
    "        - Ajouter l'élément `R[i]` au début de la liste `Tab[i]`\n",
    "    2. Trier `Tab`\n",
    "3. Retourner `Tab[pos]`"
   ]
  },
  {
   "cell_type": "markdown",
   "id": "96199a35-a74c-4f8d-85fb-e8b8600caab8",
   "metadata": {},
   "source": [
    "**Question 14.** Écrire la fonction de rotation `rotate(L, i)`."
   ]
  },
  {
   "cell_type": "code",
   "execution_count": 30,
   "id": "6c0094d6-5efb-4293-8b39-ce4969d07c8b",
   "metadata": {},
   "outputs": [],
   "source": [
    "def rotate(L, i):\n",
    "    #Définir l'indice qui va nous permettre de stocker dans A la liste des i derniers bits de L\n",
    "    n = len(L)\n",
    "    i1 = n - i\n",
    "    A = L[i1:]\n",
    "    B = L[:i1]\n",
    "\n",
    "    return A + B\n"
   ]
  },
  {
   "cell_type": "markdown",
   "id": "e0960d47-e48e-4289-8f51-1dcf86ef95cc",
   "metadata": {},
   "source": [
    "**Question 15.** Écrire une fonction `BW(L)` qui retourne la transformée de Burrows-Wheeler de `L` sous la forme d'un couple `(pos, R)`, où `pos` est un entier et `R` une liste de bits.\n",
    "\n",
    "*Indication : pour trier une liste `X`, on peut utiliser la méthode `X.sort()`*"
   ]
  },
  {
   "cell_type": "code",
   "execution_count": 31,
   "id": "e3b4ab4d-2c26-46f6-8ff3-22c5db7d6c36",
   "metadata": {},
   "outputs": [],
   "source": [
    "def BW(L):\n",
    "    #Stocker dans Tab la liste de toutes les rotations de L\n",
    "    n = len(L)\n",
    "    L1 = L.copy()\n",
    "    Tab = [rotate(L1,i) for i in range(n)]\n",
    "    #Trier Tab\n",
    "    Tab.sort()\n",
    "    #Trouver l'indice de L et le stocker dans pos\n",
    "    pos = Tab.index(L)\n",
    "    #Stocker dans R la liste des derniers bits de toutes les listes de Tab\n",
    "    R = [Tab[i][n-1] for i in range(n)]\n",
    "\n",
    "    return (pos,R)\n"
   ]
  },
  {
   "cell_type": "markdown",
   "id": "5cf75eb9-1943-4f93-aef4-754c32a593fd",
   "metadata": {},
   "source": [
    "**Question 16.** Écrire sa fonction inverse `inverse_BW(pos, L)`."
   ]
  },
  {
   "cell_type": "code",
   "execution_count": 32,
   "id": "b5e8f289-0fd8-49ea-b1ac-55e7ee859293",
   "metadata": {},
   "outputs": [],
   "source": [
    "def inverse_BW(pos: int, L: list) -> list[int]:\n",
    "    #Initialiser Tab\n",
    "    n = len(L)\n",
    "    Tab = [[] for _ in range(n)]\n",
    "\n",
    "    #Itérer n fois\n",
    "    for _ in range(n):\n",
    "        for i in range(n):\n",
    "            Tab[i].insert(0, L[i])\n",
    "        Tab.sort() \n",
    "    return Tab[pos]"
   ]
  },
  {
   "cell_type": "code",
   "execution_count": 33,
   "id": "4ce31bcc",
   "metadata": {},
   "outputs": [
    {
     "name": "stdout",
     "output_type": "stream",
     "text": [
      "Message original: [1, 1, 0, 1, 0, 1]\n",
      "Message déchiffré: [1, 1, 0, 1, 0, 1]\n",
      "Message original = message déchiffré: True\n"
     ]
    }
   ],
   "source": [
    "# Test de validité pour la fonction inverse\n",
    "original_message = [1,1,0,1,0,1]\n",
    "pos, R = BW(original_message)\n",
    "reconstructed_message = inverse_BW(pos, R)\n",
    "\n",
    "print(\"Message original:\", original_message)\n",
    "print(\"Message déchiffré:\", reconstructed_message)\n",
    "print(\"Message original = message déchiffré:\", original_message == reconstructed_message)"
   ]
  },
  {
   "cell_type": "markdown",
   "id": "65cad112-47c7-4b35-8d59-980820ef5976",
   "metadata": {},
   "source": [
    "Pour encoder un message `message`, l'idée est maintenant d'appliquer le codage RLE sur la transformée de Burrows-Wheeler de `message`. Si l'on note `(pos, L)` la valeur de retour de cette transformée, l'encodage final sera donc la concaténation du code gamma de `pos` et du code `RLE_gamma` de la liste `bw`. \n",
    "\n",
    "**Question 17.** Écrire les fonctions `BW_RLE(message)` et `inverse_BW_RLE(L)` qui effectuent respectivement cet \"encodage final\" et le décodage associé."
   ]
  },
  {
   "cell_type": "code",
   "execution_count": 34,
   "id": "088a1a2d-3bb2-4e39-b1d4-76324011f852",
   "metadata": {},
   "outputs": [],
   "source": [
    "def BW_RLE(message):\n",
    "    pos, L = BW(message)\n",
    "    A = gamma(pos)\n",
    "    B = RLE_gamma(L)\n",
    "    return A + B\n",
    "\n",
    "def inverse_BW_RLE(R):\n",
    "    \n",
    "    n = len(R)\n",
    "    for i in range(n):\n",
    "        if gamma(i) == R[:len(gamma(i))] :\n",
    "            pos = i\n",
    "            break\n",
    "    A = gamma(pos)\n",
    "    B = R[len(A):]\n",
    "    L = inverse_RLE_gamma(B)\n",
    "    message = inverse_BW(pos, L)\n",
    "\n",
    "    return message"
   ]
  },
  {
   "cell_type": "markdown",
   "id": "ab60528d-298c-4450-bf5f-2236e19ac401",
   "metadata": {},
   "source": [
    "**Question 18.** Tester les fonctions de la question précédente, puis, calculer les facteurs de compression des damiers (on prendra des valeurs de $h$ beaucoup plus petites pour des raisons de temps de calcul : $h \\in \\{ 10, 20, 30, 40, 50 \\}$ par exemple). "
   ]
  },
  {
   "cell_type": "code",
   "execution_count": 35,
   "id": "d5b1ab0c-6390-4d4f-bb95-72c8c01fece2",
   "metadata": {},
   "outputs": [
    {
     "data": {
      "text/plain": [
       "True"
      ]
     },
     "execution_count": 35,
     "metadata": {},
     "output_type": "execute_result"
    }
   ],
   "source": [
    "#Tester la validité des deux fonctions\n",
    "M1, M2, M3 = [0,0,1,0,1,0,1,0,1], [1,0,1,0,0,1], [1,0,1,1,1,0,0,1]\n",
    "C1, C2, C3 = BW_RLE(M1), BW_RLE(M2), BW_RLE(M3)\n",
    "M1_dec, M2_dec, M3_dec = inverse_BW_RLE(C1), inverse_BW_RLE(C2), inverse_BW_RLE(C3)\n",
    "(M1_dec == M1) & (M2_dec == M2) & (M3_dec == M3)"
   ]
  },
  {
   "cell_type": "code",
   "execution_count": 36,
   "id": "777771ac",
   "metadata": {},
   "outputs": [
    {
     "name": "stdout",
     "output_type": "stream",
     "text": [
      "taille originale = 100 taille compressée = 70 facteur = 0.7\n",
      "taille originale = 400 taille compressée = 94 facteur = 0.235\n",
      "taille originale = 900 taille compressée = 104 facteur = 0.11555555555555555\n",
      "taille originale = 1600 taille compressée = 118 facteur = 0.07375\n",
      "taille originale = 2500 taille compressée = 128 facteur = 0.0512\n"
     ]
    }
   ],
   "source": [
    "#Calculer les facteurs de compression\n",
    "h = [10, 20, 30, 40, 50]\n",
    "for hauteur in h:\n",
    "    taille_originale = hauteur ** 2\n",
    "    taile_compressee = len(BW_RLE(damier(hauteur)))\n",
    "    facteur = taile_compressee/taille_originale\n",
    "    print(\"taille originale =\", taille_originale, \"taille compressée =\", taile_compressee, \"facteur =\",facteur)"
   ]
  },
  {
   "cell_type": "code",
   "execution_count": 37,
   "id": "bdbfb27f-5f31-4286-b1d1-c84248c67abc",
   "metadata": {},
   "outputs": [],
   "source": [
    "#On voit clairement que la compression est assez efficace"
   ]
  }
 ],
 "metadata": {
  "kernelspec": {
   "display_name": "Python 3 (ipykernel)",
   "language": "python",
   "name": "python3"
  },
  "language_info": {
   "codemirror_mode": {
    "name": "ipython",
    "version": 3
   },
   "file_extension": ".py",
   "mimetype": "text/x-python",
   "name": "python",
   "nbconvert_exporter": "python",
   "pygments_lexer": "ipython3",
   "version": "3.12.0"
  }
 },
 "nbformat": 4,
 "nbformat_minor": 5
}
